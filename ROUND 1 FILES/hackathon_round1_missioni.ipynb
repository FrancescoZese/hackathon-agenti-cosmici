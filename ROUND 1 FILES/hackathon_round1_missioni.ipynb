{
 "cells": [
  {
   "cell_type": "markdown",
   "metadata": {},
   "source": [
    "# 🟢 Hackathon Agenti Cosmici 2025\n",
    "## Round 1: Addestramento Cosmico\n",
    "\n",
    "Benvenuto nel notebook ufficiale del Round 1!\n",
    "\n",
    "In questo round affronterai 4 missioni per imparare a navigare, commerciare e usare le API galattiche.\n",
    "\n",
    "**Istruzioni:**\n",
    "- Completa ogni missione seguendo la traccia.\n",
    "- Usa le classi `GalacticMarketplace`, `GalaxyNavigator`, `InfoSphere` da `galactic_apis.py`.\n",
    "- Valuta la tua soluzione con il sistema automatico.\n",
    "- Puoi modificare e rieseguire le celle tutte le volte che vuoi!\n",
    "\n",
    "---"
   ]
  },
  {
   "cell_type": "code",
   "execution_count": 1,
   "metadata": {},
   "outputs": [],
   "source": [
    "import sys\n",
    "import os\n",
    "sys.path.append(os.path.abspath(\"..\"))\n",
    "sys.path.append(os.path.abspath(\"../..\"))\n",
    "sys.path.append(os.path.abspath(\".\"))"
   ]
  },
  {
   "cell_type": "code",
   "execution_count": 2,
   "metadata": {},
   "outputs": [],
   "source": [
    "# 📦 SETUP: Import e inizializzazione\n",
    "import json\n",
    "from galactic_apis import GalacticMarketplace, GalaxyNavigator, InfoSphere\n",
    "from evaluation_system import HackathonEvaluator, display_evaluation_results\n",
    "\n",
    "# Carica stato galattico iniziale\n",
    "with open('./galaxy_state.json') as f:\n",
    "    galaxy_state = json.load(f)\n",
    "\n",
    "# Inizializza API\n",
    "marketplace = GalacticMarketplace(galaxy_state)\n",
    "navigator = GalaxyNavigator(galaxy_state)\n",
    "infosphere = InfoSphere(galaxy_state)\n",
    "\n",
    "# Inizializza valutatore\n",
    "evaluator = HackathonEvaluator(round_number=1)\n"
   ]
  },
  {
   "cell_type": "code",
   "execution_count": 3,
   "metadata": {},
   "outputs": [],
   "source": [
    "# with open('./galaxy_state.json') as f:\n",
    "#     galaxy_state = json.load(f)\n",
    "\n",
    "# marketplace = GalacticMarketplace(galaxy_state)\n",
    "# navigator = GalaxyNavigator(galaxy_state)\n",
    "\n",
    "# print(galaxy_state['ships']['StarHopper']['location'])\n",
    "\n",
    "# # This will change the droid's location in galaxy_state\n",
    "# navigator.travel('Tatooine', 'Coruscant', 'StarHopper')\n",
    "\n",
    "# # This will see the updated state\n",
    "# print(galaxy_state['ships']['StarHopper']['location'])  # Now 'Coruscant'"
   ]
  },
  {
   "cell_type": "markdown",
   "metadata": {},
   "source": [
    "---\n",
    "\n",
    "## Missione 1\n",
    "**Trova dove si trova R2-D2 e portalo su Coruscant usando la nave più economica**\n",
    "\n",
    "Suggerimento: usa `navigator.get_droid_location`, `navigator.list_available_ships` e `navigator.travel`.\n"
   ]
  },
  {
   "cell_type": "code",
   "execution_count": 4,
   "metadata": {},
   "outputs": [],
   "source": [
    "# 🔨 SOLUZIONE MISSIONE 1\n",
    "tool_calls_1 = []  # Traccia le chiamate API\n",
    "\n",
    "# Trova posizione attuale di R2-D2\n",
    "droid_location = navigator.get_droid_location('R2-D2')\n",
    "tool_calls_1.append({'tool': 'get_droid_location', 'droid': 'R2-D2', 'result': droid_location})\n",
    "\n",
    "# Se non è già su Coruscant, trova nave più economica e viaggia\n",
    "if droid_location != 'Coruscant':\n",
    "    ships = navigator.list_available_ships(droid_location)\n",
    "    if ships:\n",
    "        cheapest_ship_name, cheapest_ship = min(ships.items(), key=lambda item: item[1]['rental_cost'])\n",
    "        travel_result = navigator.travel('R2-D2', 'Coruscant', cheapest_ship_name)\n",
    "        tool_calls_1.append({'tool': 'travel', 'from': droid_location, 'to': 'Coruscant', 'ship': cheapest_ship_name, 'result': travel_result})\n",
    "        agent_response_1 = f\"R2-D2 spostato su Coruscant con {cheapest_ship_name}.\"\n",
    "    else:\n",
    "        agent_response_1 = 'Nessuna nave disponibile per il viaggio.'\n",
    "else:\n",
    "    agent_response_1 = 'R2-D2 era già su Coruscant.'"
   ]
  },
  {
   "cell_type": "code",
   "execution_count": 5,
   "metadata": {},
   "outputs": [
    {
     "name": "stdout",
     "output_type": "stream",
     "text": [
      "📊 RISULTATI VALUTAZIONE:\n",
      "   🎯 Correttezza: 60.0/60\n",
      "   ⚡ Efficienza: 20.0/20\n",
      "   ✨ Qualità: 18.0/20\n",
      "   📊 Totale: 98.0/100\n",
      "   📈 Percentuale: 98.0%\n"
     ]
    }
   ],
   "source": [
    "# ✅ VALUTAZIONE MISSIONE 1\n",
    "evaluation_1 = evaluator.evaluate_mission(\n",
    "    task_id=1,\n",
    "    agent_response=agent_response_1,\n",
    "    intermediate_steps=tool_calls_1,\n",
    "    final_state=galaxy_state\n",
    ")\n",
    "display_evaluation_results(evaluation_1, round_number=1)\n"
   ]
  },
  {
   "cell_type": "markdown",
   "metadata": {},
   "source": [
    "---\n",
    "\n",
    "## Missione 2\n",
    "**Compra un 'Walkman degli Antichi' dal mercato galattico**\n",
    "\n",
    "Suggerimento: usa `marketplace.find_item` e `marketplace.purchase_item`.\n"
   ]
  },
  {
   "cell_type": "code",
   "execution_count": 6,
   "metadata": {},
   "outputs": [],
   "source": [
    "# 🔨 SOLUZIONE MISSIONE 2\n",
    "\n",
    "tool_calls_2 = []\n",
    "\n",
    "# Controlla se il Walkman degli Antichi è già in inventario\n",
    "inventory = [item['name'] for item in galaxy_state['client']['inventory']]\n",
    "if \"Walkman degli Antichi\" in inventory:\n",
    "    agent_response_2 = (\n",
    "        \"Ho controllato l'inventario e il 'Walkman degli Antichi' era già presente. \"\n",
    "        \"Non è stato necessario effettuare un nuovo acquisto, ottimizzando così le risorse e il numero di chiamate API.\"\n",
    "    )\n",
    "else:\n",
    "    # Trova l'oggetto nel marketplace\n",
    "    items = marketplace.find_item('Walkman degli Antichi')\n",
    "    tool_calls_2.append({'tool': 'find_item', 'item': 'Walkman degli Antichi', 'result': items})\n",
    "    if items:\n",
    "        item_id, item = items[0]\n",
    "        purchase_result = marketplace.purchase_item(item_id)\n",
    "        tool_calls_2.append({'tool': 'purchase_item', 'item_id': item_id, 'result': purchase_result})\n",
    "        if isinstance(purchase_result, str) and purchase_result.startswith(\"Purchased\"):\n",
    "            agent_response_2 = (\n",
    "                f\"Il 'Walkman degli Antichi' non era già presente nell'invetario. Ho trovato e acquistato il 'Walkman degli Antichi' dal mercato galattico su {item['planet']} al prezzo di {item['price']} crediti. \"\n",
    "                \"L'oggetto è stato aggiunto con successo all'inventario, rispettando il budget disponibile.\"\n",
    "            )\n",
    "        else:\n",
    "            agent_response_2 = (\n",
    "                f\"Ho trovato il 'Walkman degli Antichi' ma non è stato possibile completare l'acquisto: {purchase_result}. \"\n",
    "                \"Verificare il saldo o la disponibilità.\"\n",
    "            )\n",
    "    else:\n",
    "        agent_response_2 = (\n",
    "            \"Non sono riuscito a trovare il 'Walkman degli Antichi' nel marketplace. \"\n",
    "            \"Missione non completata.\"\n",
    "        )"
   ]
  },
  {
   "cell_type": "code",
   "execution_count": 7,
   "metadata": {},
   "outputs": [
    {
     "name": "stdout",
     "output_type": "stream",
     "text": [
      "📊 RISULTATI VALUTAZIONE:\n",
      "   🎯 Correttezza: 60.0/60\n",
      "   ⚡ Efficienza: 20.0/20\n",
      "   ✨ Qualità: 20.0/20\n",
      "   📊 Totale: 100.0/100\n",
      "   📈 Percentuale: 100.0%\n"
     ]
    }
   ],
   "source": [
    "# ✅ VALUTAZIONE MISSIONE 2\n",
    "evaluation_2 = evaluator.evaluate_mission(\n",
    "    task_id=2,\n",
    "    agent_response=agent_response_2,\n",
    "    intermediate_steps=tool_calls_2,\n",
    "    final_state=galaxy_state\n",
    ")\n",
    "display_evaluation_results(evaluation_2, round_number=1)\n"
   ]
  },
  {
   "cell_type": "markdown",
   "metadata": {},
   "source": [
    "---\n",
    "\n",
    "## Missione 3\n",
    "**Usa l'InfoSfera per scoprire informazioni su 'Cybersystems Inc.'**\n",
    "\n",
    "Suggerimento: usa `infosphere.get_info`.\n"
   ]
  },
  {
   "cell_type": "code",
   "execution_count": 8,
   "metadata": {},
   "outputs": [],
   "source": [
    "# 🔨 SOLUZIONE MISSIONE 3\n",
    "tool_calls_3 = []\n",
    "info = infosphere.get_info('Cybersystems Inc.')\n",
    "tool_calls_3.append({'tool': 'get_info', 'name': 'Cybersystems Inc.', 'result': info})\n",
    "agent_response_3 = (\n",
    "    f\"Ho consultato l'InfoSfera per ottenere informazioni su 'Cybersystems Inc.': {info}. \"\n",
    "    \"Questa informazione può essere utile per missioni future o per prendere decisioni strategiche.\"\n",
    ")\n"
   ]
  },
  {
   "cell_type": "code",
   "execution_count": 9,
   "metadata": {},
   "outputs": [
    {
     "data": {
      "text/plain": [
       "\"Ho consultato l'InfoSfera per ottenere informazioni su 'Cybersystems Inc.': {'affiliation': 'legitimate', 'planet': 'Coruscant'}. Questa informazione può essere utile per missioni future o per prendere decisioni strategiche.\""
      ]
     },
     "execution_count": 9,
     "metadata": {},
     "output_type": "execute_result"
    }
   ],
   "source": [
    "agent_response_3"
   ]
  },
  {
   "cell_type": "code",
   "execution_count": 10,
   "metadata": {},
   "outputs": [
    {
     "name": "stdout",
     "output_type": "stream",
     "text": [
      "📊 RISULTATI VALUTAZIONE:\n",
      "   🎯 Correttezza: 60.0/60\n",
      "   ⚡ Efficienza: 20.0/20\n",
      "   ✨ Qualità: 11.4/20\n",
      "   📊 Totale: 91.4/100\n",
      "   📈 Percentuale: 91.4%\n"
     ]
    }
   ],
   "source": [
    "# ✅ VALUTAZIONE MISSIONE 3\n",
    "evaluation_3 = evaluator.evaluate_mission(\n",
    "    task_id=3,\n",
    "    agent_response=agent_response_3,\n",
    "    intermediate_steps=tool_calls_3,\n",
    "    final_state=galaxy_state\n",
    ")\n",
    "display_evaluation_results(evaluation_3, round_number=1)\n"
   ]
  },
  {
   "cell_type": "markdown",
   "metadata": {},
   "source": [
    "---\n",
    "\n",
    "## Missione 4\n",
    "**Completa una missione combinata: porta R2-D2 su Alderaan E compra almeno 2 oggetti diversi rimanendo nel budget**\n",
    "\n",
    "Suggerimento: combina le API di navigazione e marketplace.\n"
   ]
  },
  {
   "cell_type": "code",
   "execution_count": 11,
   "metadata": {},
   "outputs": [
    {
     "name": "stdout",
     "output_type": "stream",
     "text": [
      "📊 RISULTATI VALUTAZIONE:\n",
      "   🎯 Correttezza: 90.0/90\n",
      "   ⚡ Efficienza: 30.0/30\n",
      "   ✨ Qualità: 25.7/30\n",
      "   📊 Totale: 145.7/150\n",
      "   📈 Percentuale: 97.1%\n"
     ]
    }
   ],
   "source": [
    "tool_calls_4 = []\n",
    "\n",
    "# 1. Sposta R2-D2 su Alderaan solo se necessario\n",
    "droid_location = navigator.get_droid_location('R2-D2')\n",
    "tool_calls_4.append({'tool': 'get_droid_location', 'droid': 'R2-D2', 'result': droid_location})\n",
    "\n",
    "if droid_location != 'Alderaan':\n",
    "    ships = navigator.list_available_ships(droid_location)\n",
    "    if ships:\n",
    "        cheapest_ship_name, cheapest_ship = min(ships.items(), key=lambda item: item[1]['rental_cost'])\n",
    "        travel_result = navigator.travel('R2-D2', 'Alderaan', cheapest_ship_name)\n",
    "        tool_calls_4.append({'tool': 'travel', 'from': droid_location, 'to': 'Alderaan', 'ship': cheapest_ship_name, 'result': travel_result})\n",
    "        move_msg = f\"Ho spostato R2-D2 da {droid_location} su Alderaan usando la nave {cheapest_ship_name} (costo: {cheapest_ship['rental_cost']} crediti). \"\n",
    "    else:\n",
    "        move_msg = \"Nessuna nave disponibile per il viaggio verso Alderaan. \"\n",
    "else:\n",
    "    move_msg = \"R2-D2 era già su Alderaan. \"\n",
    "\n",
    "# 2. Compra solo oggetti diversi che mancano\n",
    "inventory = set(galaxy_state['client']['inventory'])\n",
    "oggetti_possibili = ['Walkman degli Antichi', 'Crystal Shard', 'Holocron', 'Map Scanner']\n",
    "oggetti_da_comprare = [item for item in oggetti_possibili if item not in inventory]\n",
    "\n",
    "# Ne servono almeno 2 in totale\n",
    "oggetti_acquistati = []\n",
    "for item_name in oggetti_da_comprare:\n",
    "    if len(inventory) + len(oggetti_acquistati) >= 2:\n",
    "        break\n",
    "    items = marketplace.find_item(item_name)\n",
    "    if items:\n",
    "        item_id, item = items[0]\n",
    "        purchase_result = marketplace.purchase_item(item_id)\n",
    "        tool_calls_4.append({'tool': 'purchase_item', 'item_id': item_id, 'result': purchase_result})\n",
    "        if isinstance(purchase_result, str) and purchase_result.startswith(\"Purchased\"):\n",
    "            oggetti_acquistati.append(item['name'])\n",
    "\n",
    "if len(inventory) + len(oggetti_acquistati) >= 2:\n",
    "    acquisto_msg = f\"Ho acquistato i seguenti oggetti per completare la missione: {', '.join(oggetti_acquistati)}. \"\n",
    "else:\n",
    "    acquisto_msg = \"Non sono riuscito ad acquistare almeno due oggetti diversi per limiti di budget o disponibilità. \"\n",
    "\n",
    "# 3. Risposta dettagliata\n",
    "agent_response_4 = (\n",
    "    move_msg +\n",
    "    acquisto_msg +\n",
    "    f\"Saldo finale: {galaxy_state['client']['balance']} crediti. \"\n",
    "    \"Ho ottimizzato le azioni per minimizzare i costi e il numero di chiamate API, rispettando i vincoli della missione.\"\n",
    ")\n",
    "\n",
    "evaluation_4 = evaluator.evaluate_mission(\n",
    "    task_id=4,\n",
    "    agent_response=agent_response_4,\n",
    "    intermediate_steps=tool_calls_4,\n",
    "    final_state=galaxy_state\n",
    ")\n",
    "display_evaluation_results(evaluation_4, round_number=1)"
   ]
  },
  {
   "cell_type": "code",
   "execution_count": 13,
   "metadata": {},
   "outputs": [
    {
     "name": "stdout",
     "output_type": "stream",
     "text": [
      "📊 RISULTATI VALUTAZIONE:\n",
      "   🎯 Correttezza: 90.0/90\n",
      "   ⚡ Efficienza: 30.0/30\n",
      "   ✨ Qualità: 25.7/30\n",
      "   📊 Totale: 145.7/150\n",
      "   📈 Percentuale: 97.1%\n"
     ]
    }
   ],
   "source": [
    "# ✅ VALUTAZIONE MISSIONE 4\n",
    "evaluation_4 = evaluator.evaluate_mission(\n",
    "    task_id=4,\n",
    "    agent_response=agent_response_4,\n",
    "    intermediate_steps=tool_calls_4,\n",
    "    final_state=galaxy_state\n",
    ")\n",
    "display_evaluation_results(evaluation_4, round_number=1)\n"
   ]
  },
  {
   "cell_type": "markdown",
   "metadata": {},
   "source": [
    "---\n",
    "\n",
    "## 🎉 Complimenti!\n",
    "Hai completato tutte le missioni del Round 1.\n",
    "\n",
    "- Puoi ottimizzare le tue soluzioni e rieseguire le valutazioni.\n",
    "- Passa al Round 2 per nuove sfide!\n"
   ]
  }
 ],
 "metadata": {
  "kernelspec": {
   "display_name": "base",
   "language": "python",
   "name": "python3"
  },
  "language_info": {
   "codemirror_mode": {
    "name": "ipython",
    "version": 3
   },
   "file_extension": ".py",
   "mimetype": "text/x-python",
   "name": "python",
   "nbconvert_exporter": "python",
   "pygments_lexer": "ipython3",
   "version": "3.12.7"
  }
 },
 "nbformat": 4,
 "nbformat_minor": 2
}
