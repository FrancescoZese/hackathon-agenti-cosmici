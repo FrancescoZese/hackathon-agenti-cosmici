{
 "cells": [
  {
   "cell_type": "markdown",
   "metadata": {},
   "source": [
    "# 🟢 Hackathon Agenti Cosmici 2025\n",
    "## Round 1: Addestramento Cosmico\n",
    "\n",
    "Benvenuto nel notebook ufficiale del Round 1!\n",
    "\n",
    "In questo round affronterai 4 missioni per imparare a navigare, commerciare e usare le API galattiche.\n",
    "\n",
    "**Istruzioni:**\n",
    "- Completa ogni missione seguendo la traccia.\n",
    "- Usa le classi `GalacticMarketplace`, `GalaxyNavigator`, `InfoSphere` da `galactic_apis.py`.\n",
    "- Valuta la tua soluzione con il sistema automatico.\n",
    "- Puoi modificare e rieseguire le celle tutte le volte che vuoi!\n",
    "\n",
    "---"
   ]
  },
  {
   "cell_type": "code",
   "execution_count": null,
   "metadata": {},
   "outputs": [],
   "source": [
    "# 📦 SETUP: Import e inizializzazione\n",
    "import json\n",
    "from galactic_apis import GalacticMarketplace, GalaxyNavigator, InfoSphere\n",
    "from evaluation_system import HackathonEvaluator, display_evaluation_results\n",
    "\n",
    "# Carica stato galattico iniziale\n",
    "with open('ROUND 1 FILES/galaxy_state.json') as f:\n",
    "    galaxy_state = json.load(f)\n",
    "\n",
    "# Inizializza API\n",
    "marketplace = GalacticMarketplace(galaxy_state)\n",
    "navigator = GalaxyNavigator(galaxy_state)\n",
    "infosphere = InfoSphere(galaxy_state)\n",
    "\n",
    "# Inizializza valutatore\n",
    "evaluator = HackathonEvaluator(round_number=1)\n"
   ]
  },
  {
   "cell_type": "markdown",
   "metadata": {},
   "source": [
    "---\n",
    "\n",
    "## Missione 1\n",
    "**Trova dove si trova R2-D2 e portalo su Coruscant usando la nave più economica**\n",
    "\n",
    "Suggerimento: usa `navigator.get_droid_location`, `navigator.list_available_ships` e `navigator.travel`.\n"
   ]
  },
  {
   "cell_type": "code",
   "execution_count": null,
   "metadata": {},
   "outputs": [],
   "source": [
    "# 🔨 SOLUZIONE MISSIONE 1\n",
    "tool_calls_1 = []  # Traccia le chiamate API\n",
    "\n",
    "# Trova posizione attuale di R2-D2\n",
    "droid_location = navigator.get_droid_location('R2-D2')\n",
    "tool_calls_1.append({'tool': 'get_droid_location', 'droid': 'R2-D2', 'result': droid_location})\n",
    "\n",
    "# Se non è già su Coruscant, trova nave più economica e viaggia\n",
    "if droid_location != 'Coruscant':\n",
    "    ships = navigator.list_available_ships(droid_location)\n",
    "    # Trova nave più economica\n",
    "    cheapest_ship = min(ships.values(), key=lambda s: s['rental_cost'])\n",
    "    travel_result = navigator.travel(droid_location, 'Coruscant', cheapest_ship['name'])\n",
    "    tool_calls_1.append({'tool': 'travel', 'from': droid_location, 'to': 'Coruscant', 'ship': cheapest_ship['name'], 'result': travel_result})\n",
    "    agent_response_1 = f\"R2-D2 spostato su Coruscant con {cheapest_ship['name']}.\"\n",
    "else:\n",
    "    agent_response_1 = 'R2-D2 era già su Coruscant.'\n"
   ]
  },
  {
   "cell_type": "code",
   "execution_count": null,
   "metadata": {},
   "outputs": [],
   "source": [
    "# ✅ VALUTAZIONE MISSIONE 1\n",
    "evaluation_1 = evaluator.evaluate_mission(\n",
    "    task_id=1,\n",
    "    agent_response=agent_response_1,\n",
    "    intermediate_steps=tool_calls_1,\n",
    "    final_state=galaxy_state\n",
    ")\n",
    "display_evaluation_results(evaluation_1, round_number=1)\n"
   ]
  },
  {
   "cell_type": "markdown",
   "metadata": {},
   "source": [
    "---\n",
    "\n",
    "## Missione 2\n",
    "**Compra un 'Walkman degli Antichi' dal mercato galattico**\n",
    "\n",
    "Suggerimento: usa `marketplace.find_item` e `marketplace.purchase_item`.\n"
   ]
  },
  {
   "cell_type": "code",
   "execution_count": null,
   "metadata": {},
   "outputs": [],
   "source": [
    "# 🔨 SOLUZIONE MISSIONE 2\n",
    "tool_calls_2 = []\n",
    "\n",
    "# Trova l'oggetto\n",
    "items = marketplace.find_item('Walkman degli Antichi')\n",
    "tool_calls_2.append({'tool': 'find_item', 'item': 'Walkman degli Antichi', 'result': items})\n",
    "\n",
    "if items:\n",
    "    item_id, item = items[0]\n",
    "    purchase_result = marketplace.purchase_item(item_id)\n",
    "    tool_calls_2.append({'tool': 'purchase_item', 'item_id': item_id, 'result': purchase_result})\n",
    "    agent_response_2 = f\"Acquistato Walkman degli Antichi su {item['planet']} per {item['price']} crediti.\"\n",
    "else:\n",
    "    agent_response_2 = 'Oggetto non trovato nel marketplace.'\n"
   ]
  },
  {
   "cell_type": "code",
   "execution_count": null,
   "metadata": {},
   "outputs": [],
   "source": [
    "# ✅ VALUTAZIONE MISSIONE 2\n",
    "evaluation_2 = evaluator.evaluate_mission(\n",
    "    task_id=2,\n",
    "    agent_response=agent_response_2,\n",
    "    intermediate_steps=tool_calls_2,\n",
    "    final_state=galaxy_state\n",
    ")\n",
    "display_evaluation_results(evaluation_2, round_number=1)\n"
   ]
  },
  {
   "cell_type": "markdown",
   "metadata": {},
   "source": [
    "---\n",
    "\n",
    "## Missione 3\n",
    "**Usa l'InfoSfera per scoprire informazioni su 'Cybersystems Inc.'**\n",
    "\n",
    "Suggerimento: usa `infosphere.get_info`.\n"
   ]
  },
  {
   "cell_type": "code",
   "execution_count": null,
   "metadata": {},
   "outputs": [],
   "source": [
    "# 🔨 SOLUZIONE MISSIONE 3\n",
    "tool_calls_3 = []\n",
    "info = infosphere.get_info('Cybersystems Inc.')\n",
    "tool_calls_3.append({'tool': 'get_info', 'name': 'Cybersystems Inc.', 'result': info})\n",
    "agent_response_3 = f\"Info su Cybersystems Inc.: {info}\"\n"
   ]
  },
  {
   "cell_type": "code",
   "execution_count": null,
   "metadata": {},
   "outputs": [],
   "source": [
    "# ✅ VALUTAZIONE MISSIONE 3\n",
    "evaluation_3 = evaluator.evaluate_mission(\n",
    "    task_id=3,\n",
    "    agent_response=agent_response_3,\n",
    "    intermediate_steps=tool_calls_3,\n",
    "    final_state=galaxy_state\n",
    ")\n",
    "display_evaluation_results(evaluation_3, round_number=1)\n"
   ]
  },
  {
   "cell_type": "markdown",
   "metadata": {},
   "source": [
    "---\n",
    "\n",
    "## Missione 4\n",
    "**Completa una missione combinata: porta R2-D2 su Alderaan E compra almeno 2 oggetti diversi rimanendo nel budget**\n",
    "\n",
    "Suggerimento: combina le API di navigazione e marketplace.\n"
   ]
  },
  {
   "cell_type": "code",
   "execution_count": null,
   "metadata": {},
   "outputs": [],
   "source": [
    "# 🔨 SOLUZIONE MISSIONE 4\n",
    "tool_calls_4 = []\n",
    "# Esempio: sposta R2-D2 su Alderaan\n",
    "droid_location = navigator.get_droid_location('R2-D2')\n",
    "tool_calls_4.append({'tool': 'get_droid_location', 'droid': 'R2-D2', 'result': droid_location})\n",
    "if droid_location != 'Alderaan':\n",
    "    ships = navigator.list_available_ships(droid_location)\n",
    "    cheapest_ship = min(ships.values(), key=lambda s: s['rental_cost'])\n",
    "    travel_result = navigator.travel(droid_location, 'Alderaan', cheapest_ship['name'])\n",
    "    tool_calls_4.append({'tool': 'travel', 'from': droid_location, 'to': 'Alderaan', 'ship': cheapest_ship['name'], 'result': travel_result})\n",
    "    agent_response_4 = f\"R2-D2 spostato su Alderaan con {cheapest_ship['name']}.\"\n",
    "else:\n",
    "    agent_response_4 = 'R2-D2 era già su Alderaan.'\n",
    "\n",
    "# Compra almeno 2 oggetti diversi\n",
    "items_to_buy = []\n",
    "for item_name in ['Walkman degli Antichi', 'Crystal Shard']:\n",
    "    items = marketplace.find_item(item_name)\n",
    "    if items:\n",
    "        item_id, item = items[0]\n",
    "        purchase_result = marketplace.purchase_item(item_id)\n",
    "        tool_calls_4.append({'tool': 'purchase_item', 'item_id': item_id, 'result': purchase_result})\n",
    "        items_to_buy.append(item['name'])\n",
    "\n",
    "agent_response_4 += f\" Acquistati: {', '.join(items_to_buy)}.\"\n"
   ]
  },
  {
   "cell_type": "code",
   "execution_count": null,
   "metadata": {},
   "outputs": [],
   "source": [
    "# ✅ VALUTAZIONE MISSIONE 4\n",
    "evaluation_4 = evaluator.evaluate_mission(\n",
    "    task_id=4,\n",
    "    agent_response=agent_response_4,\n",
    "    intermediate_steps=tool_calls_4,\n",
    "    final_state=galaxy_state\n",
    ")\n",
    "display_evaluation_results(evaluation_4, round_number=1)\n"
   ]
  },
  {
   "cell_type": "markdown",
   "metadata": {},
   "source": [
    "---\n",
    "\n",
    "## 🎉 Complimenti!\n",
    "Hai completato tutte le missioni del Round 1.\n",
    "\n",
    "- Puoi ottimizzare le tue soluzioni e rieseguire le valutazioni.\n",
    "- Passa al Round 2 per nuove sfide!\n"
   ]
  }
 ],
 "metadata": {
  "kernelspec": {
   "display_name": "base",
   "language": "python",
   "name": "python3"
  },
  "language_info": {
   "codemirror_mode": {
    "name": "ipython",
    "version": 3
   },
   "file_extension": ".py",
   "mimetype": "text/x-python",
   "name": "python",
   "nbconvert_exporter": "python",
   "pygments_lexer": "ipython3",
   "version": "3.12.7"
  }
 },
 "nbformat": 4,
 "nbformat_minor": 2
}
