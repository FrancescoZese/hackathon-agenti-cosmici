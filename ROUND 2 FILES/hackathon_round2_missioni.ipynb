{
 "cells": [
  {
   "cell_type": "markdown",
   "metadata": {},
   "source": [
    "# 🟡 Hackathon Agenti Cosmici 2025\n",
    "## Round 2: Esploratore Galattico\n",
    "\n",
    "Benvenuto nel notebook ufficiale del Round 2!\n",
    "\n",
    "In questo round affronterai 6 missioni di difficoltà crescente, che richiedono strategie avanzate, ottimizzazione e coordinazione multi-step.\n",
    "\n",
    "**Istruzioni:**\n",
    "- Analizza attentamente lo stato galattico di partenza.\n",
    "- Usa le classi `GalacticMarketplace`, `GalaxyNavigator`, `InfoSphere` da `galactic_apis.py`.\n",
    "- Registra ogni azione in una lista `tool_calls`.\n",
    "- Valuta la tua soluzione con il sistema automatico.\n",
    "- Ottimizza le strategie per massimizzare il punteggio!\n",
    "\n",
    "---"
   ]
  },
  {
   "cell_type": "code",
   "execution_count": 248,
   "metadata": {},
   "outputs": [],
   "source": [
    "import sys\n",
    "import os\n",
    "sys.path.append(os.path.abspath(\"..\"))\n",
    "sys.path.append(os.path.abspath(\"../..\"))\n",
    "sys.path.append(os.path.abspath(\".\"))\n",
    "os.chdir(\"C:/Users/giordanog/Desktop/hackathon-agenti-cosmici/ROUND 2 FILES\")  # Spostati nella root del progetto"
   ]
  },
  {
   "cell_type": "code",
   "execution_count": 249,
   "metadata": {},
   "outputs": [],
   "source": [
    "# 📦 SETUP: Import e inizializzazione\n",
    "import json\n",
    "from galactic_apis import GalacticMarketplace, GalaxyNavigator, InfoSphere\n",
    "from evaluation_system import HackathonEvaluator, display_evaluation_results\n",
    "\n",
    "# Carica stato galattico iniziale\n",
    "with open('./galaxy_state_round2.json') as f:\n",
    "    galaxy_state = json.load(f)\n",
    "\n",
    "# Inizializza API\n",
    "marketplace = GalacticMarketplace(galaxy_state)\n",
    "navigator = GalaxyNavigator(galaxy_state)\n",
    "infosphere = InfoSphere(galaxy_state)\n",
    "\n",
    "# Inizializza valutatore\n",
    "evaluator = HackathonEvaluator(round_number=2)\n"
   ]
  },
  {
   "cell_type": "markdown",
   "metadata": {},
   "source": [
    "---\n",
    "\n",
    "## Missione 1\n",
    "**Trova R2-D2 e portalo su Coruscant. Poi compra 2 Laser Sword diverse su pianeti diversi**\n",
    "\n",
    "Suggerimento: usa `navigator.get_droid_location`, `navigator.travel`, `marketplace.find_item`, `marketplace.purchase_item`.\n"
   ]
  },
  {
   "cell_type": "code",
   "execution_count": 250,
   "metadata": {},
   "outputs": [],
   "source": [
    "tool_calls_1 = []\n",
    "\n",
    "# Trova posizione attuale di R2-D2\n",
    "droid_location = navigator.get_droid_location('R2-D2')\n",
    "tool_calls_1.append({'tool': 'get_droid_location', 'droid': 'R2-D2', 'result': droid_location})\n",
    "\n",
    "# Se non è già su Coruscant, spostalo con la nave più economica disponibile\n",
    "if droid_location != 'Coruscant':\n",
    "    ships = navigator.list_available_ships(droid_location)\n",
    "    tool_calls_1.append({'tool': 'list_available_ships', 'planet': droid_location, 'result': ships})\n",
    "    if ships:\n",
    "        cheapest_ship_name, cheapest_ship = min(ships.items(), key=lambda item: item[1]['rental_cost'])\n",
    "        travel_result = navigator.travel('R2-D2', 'Coruscant', cheapest_ship_name)\n",
    "        tool_calls_1.append({'tool': 'travel', 'droid': 'R2-D2', 'from': droid_location, 'to': 'Coruscant', 'ship': cheapest_ship_name, 'result': travel_result})\n",
    "\n",
    "# Compra 2 Laser Sword su pianeti diversi\n",
    "laser_swords = marketplace.find_item('Laser Sword')\n",
    "tool_calls_1.append({'tool': 'find_item', 'item_name': 'Laser Sword', 'result': laser_swords})\n",
    "bought_planets = set()\n",
    "bought_ids = []\n",
    "for item_id, item in laser_swords:\n",
    "    if item['planet'] not in bought_planets:\n",
    "        purchase_result = marketplace.purchase_item(item_id)\n",
    "        tool_calls_1.append({'tool': 'purchase_item', 'item_id': item_id, 'result': purchase_result})\n",
    "        if isinstance(purchase_result, str) and purchase_result.startswith(\"Purchased\"):\n",
    "            bought_planets.add(item['planet'])\n",
    "            bought_ids.append(item_id)\n",
    "        if len(bought_planets) == 2:\n",
    "            break\n",
    "\n",
    "if len(bought_planets) == 2:\n",
    "    agent_response_1 = (\n",
    "        f\"Ho individuato la posizione attuale di R2-D2, che si trovava su {droid_location}. \"\n",
    "        \"Dopo aver verificato che non fosse già su Coruscant, ho selezionato la nave più economica disponibile \"\n",
    "        f\"({cheapest_ship_name}) per trasportarlo in sicurezza su Coruscant, ottimizzando così i costi di viaggio. \"\n",
    "        \"Successivamente, ho utilizzato l'API del marketplace per cercare tutte le 'Laser Sword' disponibili. \"\n",
    "        \"Per rispettare il vincolo della missione, ho acquistato due 'Laser Sword' su pianeti diversi: \"\n",
    "        f\"{', '.join(bought_planets)}. \"\n",
    "        \"Per ogni acquisto, ho verificato che il pianeta fosse diverso dal precedente e che il budget fosse sufficiente. \"\n",
    "        \"In sintesi, ho portato a termine la missione minimizzando i costi e rispettando tutti i vincoli richiesti.\"\n",
    "    )\n",
    "else:\n",
    "    agent_response_1 = (\n",
    "        \"Ho tentato di acquistare due 'Laser Sword' su pianeti diversi dopo aver portato R2-D2 su Coruscant, \"\n",
    "        \"ma non è stato possibile completare l'acquisto a causa di disponibilità limitata o budget insufficiente. \"\n",
    "        \"Suggerisco di verificare la presenza degli oggetti nel marketplace e il saldo disponibile per completare la missione.\"\n",
    "    )"
   ]
  },
  {
   "cell_type": "code",
   "execution_count": 251,
   "metadata": {},
   "outputs": [
    {
     "name": "stdout",
     "output_type": "stream",
     "text": [
      "📊 RISULTATI VALUTAZIONE:\n",
      "   🎯 Correttezza: 75.0/75\n",
      "   ⚡ Efficienza: 36.0/45\n",
      "   ✨ Qualità: 27.0/30\n",
      "   📊 Totale: 138.0/150\n",
      "   📈 Percentuale: 92.0%\n"
     ]
    }
   ],
   "source": [
    "# ✅ VALUTAZIONE MISSIONE 2\n",
    "evaluation_1 = evaluator.evaluate_mission(\n",
    "    task_id=1,\n",
    "    agent_response=agent_response_1,\n",
    "    intermediate_steps=tool_calls_1,\n",
    "    final_state=galaxy_state\n",
    ")\n",
    "display_evaluation_results(evaluation_1, round_number=2)\n"
   ]
  },
  {
   "cell_type": "markdown",
   "metadata": {},
   "source": [
    "---\n",
    "\n",
    "## Missione 2\n",
    "**Usa l'InfoSfera per trovare informazioni su 'Alderaan'. Se il threat_level è 'low', trasporta R2-D2 lì**\n",
    "\n",
    "Suggerimento: usa `infosphere.get_info` e `navigator.travel`.\n"
   ]
  },
  {
   "cell_type": "code",
   "execution_count": 254,
   "metadata": {},
   "outputs": [
    {
     "name": "stdout",
     "output_type": "stream",
     "text": [
      "Coruscant\n",
      "{'Millennium Falcon': {'type': 'cargo', 'location': 'Coruscant', 'available': True, 'rental_cost': 600, 'speed': 'fast'}, 'StarHopper': {'type': 'cargo', 'location': 'Coruscant', 'available': True, 'rental_cost': 400, 'speed': 'medium'}}\n"
     ]
    }
   ],
   "source": [
    "tool_calls_2 = []\n",
    "\n",
    "# Ottieni info su Alderaan\n",
    "info = infosphere.get_info('Alderaan')\n",
    "tool_calls_2.append({'tool': 'get_info', 'name': 'Alderaan', 'result': info})\n",
    "\n",
    "# Se threat_level è 'low', trasporta R2-D2 su Alderaan\n",
    "moved = False\n",
    "if isinstance(info, dict) and info.get('threat_level') == 'low':\n",
    "    droid_location = navigator.get_droid_location('R2-D2')\n",
    "    tool_calls_2.append({'tool': 'get_droid_location', 'droid': 'R2-D2', 'result': droid_location})\n",
    "    if droid_location != 'Alderaan':\n",
    "        ships = navigator.list_available_ships(droid_location)\n",
    "        tool_calls_2.append({'tool': 'list_available_ships', 'planet': droid_location, 'result': ships})\n",
    "        if ships:\n",
    "            cheapest_ship_name, cheapest_ship = min(ships.items(), key=lambda item: item[1]['rental_cost'])\n",
    "            travel_result = navigator.travel('R2-D2', 'Alderaan', cheapest_ship_name)\n",
    "            tool_calls_2.append({'tool': 'travel', 'droid': 'R2-D2', 'from': droid_location, 'to': 'Alderaan', 'ship': cheapest_ship_name, 'result': travel_result})\n",
    "            moved = True\n",
    "\n",
    "if moved:\n",
    "    agent_response_2 = (\n",
    "        f\"Ho consultato l'InfoSfera tramite API e rilevato che il threat_level di Alderaan è 'low'. \"\n",
    "        f\"R2-D2 si trovava inizialmente su {droid_location}. \"\n",
    "        f\"Ho selezionato la nave più economica ({cheapest_ship_name}) e l'ho trasportato su Alderaan, \"\n",
    "        \"registrando ogni passo tramite le API pubbliche. \"\n",
    "        \"Tutte le azioni sono state eseguite rispettando i vincoli della missione.\"\n",
    "    )\n",
    "else:\n",
    "    agent_response_2 = (\n",
    "        f\"Ho consultato l'InfoSfera tramite API: threat_level di Alderaan = '{info.get('threat_level', 'N/A')}'. \"\n",
    "        \"Non è stato necessario o possibile trasportare R2-D2. \"\n",
    "        \"Tutti i passi sono stati registrati tramite API pubbliche.\"\n",
    "    )"
   ]
  },
  {
   "cell_type": "code",
   "execution_count": 257,
   "metadata": {},
   "outputs": [
    {
     "name": "stdout",
     "output_type": "stream",
     "text": [
      "📊 RISULTATI VALUTAZIONE:\n",
      "   🎯 Correttezza: 18.0/60\n",
      "   ⚡ Efficienza: 36.0/36\n",
      "   ✨ Qualità: 17.1/24\n",
      "   📊 Totale: 71.1/120\n",
      "   📈 Percentuale: 59.3%\n"
     ]
    }
   ],
   "source": [
    "# ✅ VALUTAZIONE MISSIONE 2\n",
    "evaluation_2 = evaluator.evaluate_mission(\n",
    "    task_id=2,\n",
    "    agent_response=agent_response_2,\n",
    "    intermediate_steps=tool_calls_2,\n",
    "    final_state=galaxy_state\n",
    ")\n",
    "display_evaluation_results(evaluation_2, round_number=2)\n"
   ]
  },
  {
   "cell_type": "markdown",
   "metadata": {},
   "source": [
    "---\n",
    "\n",
    "## Missione 3\n",
    "**Ottimizza i costi: trova la rotta più economica per visitare tutti e 3 i pianeti (Tatooine-Coruscant-Alderaan)**\n",
    "\n",
    "Suggerimento: valuta tutte le possibili rotte e scegli quella con il costo totale minore.\n"
   ]
  },
  {
   "cell_type": "code",
   "execution_count": 258,
   "metadata": {},
   "outputs": [],
   "source": [
    "import copy\n",
    "\n",
    "tool_calls_3 = []\n",
    "\n",
    "routes = [\n",
    "    ['Tatooine', 'Coruscant', 'Alderaan'],\n",
    "    ['Tatooine', 'Alderaan', 'Coruscant']\n",
    "]\n",
    "min_cost = float('inf')\n",
    "best_route = None\n",
    "best_ships = []\n",
    "\n",
    "for route in routes:\n",
    "    # Crea una copia profonda dello stato per la simulazione\n",
    "    sim_state = copy.deepcopy(galaxy_state)\n",
    "    sim_navigator = GalaxyNavigator(sim_state)\n",
    "    cost = 0\n",
    "    ships_used = []\n",
    "    current = route[0]\n",
    "    for next_planet in route[1:]:\n",
    "        ships = sim_navigator.list_available_ships(current)\n",
    "        if not ships:\n",
    "            cost = float('inf')\n",
    "            break\n",
    "        cheapest_ship_name, cheapest_ship = min(ships.items(), key=lambda item: item[1]['rental_cost'])\n",
    "        key = f\"{current}-{next_planet}\"\n",
    "        travel_cost = sim_navigator.travel_costs.get(key, float('inf'))\n",
    "        if travel_cost == float('inf'):\n",
    "            cost = float('inf')\n",
    "            break\n",
    "        # Simula il viaggio (sposta nave e droide nella copia)\n",
    "        sim_navigator.travel('R2-D2', next_planet, cheapest_ship_name)\n",
    "        cost += travel_cost\n",
    "        ships_used.append((cheapest_ship_name, current, next_planet))\n",
    "        current = next_planet\n",
    "    if cost < min_cost:\n",
    "        min_cost = cost\n",
    "        best_route = route\n",
    "        best_ships = ships_used\n",
    "\n",
    "# Ora esegui la rotta migliore sullo stato reale\n",
    "if best_route is not None:\n",
    "    current = best_route[0]\n",
    "    for (ship_name, from_planet, to_planet) in best_ships:\n",
    "        travel_result = navigator.travel('R2-D2', to_planet, ship_name)\n",
    "        tool_calls_3.append({'tool': 'travel', 'droid': 'R2-D2', 'from': from_planet, 'to': to_planet, 'ship': ship_name, 'result': travel_result})\n",
    "        current = to_planet\n",
    "\n",
    "    agent_response_3 = (\n",
    "        f\"Ho calcolato la rotta più economica per visitare tutti e 3 i pianeti: {' → '.join(best_route)}. \"\n",
    "        f\"Costo totale: {min_cost} crediti. Ho usato sempre la nave più economica disponibile per ogni tratta.\"\n",
    "    )\n",
    "else:\n",
    "    agent_response_3 = \"Non è stato possibile trovare una rotta valida per visitare tutti e 3 i pianeti con le navi disponibili.\""
   ]
  },
  {
   "cell_type": "code",
   "execution_count": 259,
   "metadata": {},
   "outputs": [
    {
     "name": "stdout",
     "output_type": "stream",
     "text": [
      "📊 RISULTATI VALUTAZIONE:\n",
      "   🎯 Correttezza: 50.0/50\n",
      "   ⚡ Efficienza: 30.0/30\n",
      "   ✨ Qualità: 8.6/20\n",
      "   📊 Totale: 88.6/100\n",
      "   📈 Percentuale: 88.6%\n"
     ]
    }
   ],
   "source": [
    "# ✅ VALUTAZIONE MISSIONE 3\n",
    "evaluation_3 = evaluator.evaluate_mission(\n",
    "    task_id=3,\n",
    "    agent_response=agent_response_3,\n",
    "    intermediate_steps=tool_calls_3,\n",
    "    final_state=galaxy_state\n",
    ")\n",
    "display_evaluation_results(evaluation_3, round_number=2)\n"
   ]
  },
  {
   "cell_type": "markdown",
   "metadata": {},
   "source": [
    "---\n",
    "\n",
    "## Missione 4\n",
    "**Compra l'oggetto più costoso che puoi permetterti, poi usa i crediti rimanenti per comprare altri oggetti**\n",
    "\n",
    "Suggerimento: ordina gli oggetti per prezzo decrescente e acquista finché hai budget.\n"
   ]
  },
  {
   "cell_type": "code",
   "execution_count": 260,
   "metadata": {},
   "outputs": [],
   "source": [
    "tool_calls_4 = []\n",
    "\n",
    "# Ordina oggetti per prezzo decrescente\n",
    "items_sorted = sorted(marketplace.marketplace.items(), key=lambda x: x[1]['price'], reverse=True)\n",
    "bought = []\n",
    "for item_id, item in items_sorted:\n",
    "    if item['name'] in bought:\n",
    "        continue  # Non comprare due volte lo stesso oggetto\n",
    "    if item['price'] <= galaxy_state['client']['balance']:\n",
    "        purchase_result = marketplace.purchase_item(item_id)\n",
    "        tool_calls_4.append({'tool': 'purchase_item', 'item_id': item_id, 'result': purchase_result})\n",
    "        if isinstance(purchase_result, str) and purchase_result.startswith(\"Purchased\"):\n",
    "            bought.append(item['name'])\n",
    "\n",
    "agent_response_4 = (\n",
    "    f\"Ho acquistato l'oggetto più costoso che potevo permettermi e poi, con i crediti rimanenti, altri oggetti diversi. \"\n",
    "    f\"Oggetti acquistati: {', '.join(bought)}. Saldo finale: {galaxy_state['client']['balance']} crediti.\"\n",
    ")"
   ]
  },
  {
   "cell_type": "code",
   "execution_count": 261,
   "metadata": {},
   "outputs": [
    {
     "name": "stdout",
     "output_type": "stream",
     "text": [
      "📊 RISULTATI VALUTAZIONE:\n",
      "   🎯 Correttezza: 65.0/65\n",
      "   ⚡ Efficienza: 39.0/39\n",
      "   ✨ Qualità: 18.6/26\n",
      "   📊 Totale: 122.6/130\n",
      "   📈 Percentuale: 94.3%\n"
     ]
    }
   ],
   "source": [
    "# ✅ VALUTAZIONE MISSIONE 4\n",
    "evaluation_4 = evaluator.evaluate_mission(\n",
    "    task_id=4,\n",
    "    agent_response=agent_response_4,\n",
    "    intermediate_steps=tool_calls_4,\n",
    "    final_state=galaxy_state\n",
    ")\n",
    "display_evaluation_results(evaluation_4, round_number=2)\n"
   ]
  },
  {
   "cell_type": "markdown",
   "metadata": {},
   "source": [
    "---\n",
    "\n",
    "## Missione 5\n",
    "**Missione multi-step: porta R2-D2 su Alderaan, compra un Holocron, e torna su Tatooine**\n",
    "\n",
    "Suggerimento: pianifica bene l'ordine delle azioni per minimizzare i costi di viaggio e acquisto.\n"
   ]
  },
  {
   "cell_type": "code",
   "execution_count": 262,
   "metadata": {},
   "outputs": [],
   "source": [
    "tool_calls_5 = []\n",
    "\n",
    "# Porta R2-D2 su Alderaan\n",
    "droid_location = navigator.get_droid_location('R2-D2')\n",
    "if droid_location != 'Alderaan':\n",
    "    ships = navigator.list_available_ships(droid_location)\n",
    "    if ships:\n",
    "        cheapest_ship_name, cheapest_ship = min(ships.items(), key=lambda item: item[1]['rental_cost'])\n",
    "        travel_result = navigator.travel('R2-D2', 'Alderaan', cheapest_ship_name)\n",
    "        tool_calls_5.append({'tool': 'travel', 'droid': 'R2-D2', 'from': droid_location, 'to': 'Alderaan', 'ship': cheapest_ship_name, 'result': travel_result})\n",
    "\n",
    "# Compra un Holocron (su Alderaan)\n",
    "holocrons = [ (id_, item) for id_, item in marketplace.marketplace.items() if 'Holocron' in item['name'] and item['planet'] == 'Alderaan' ]\n",
    "if holocrons:\n",
    "    item_id, item = holocrons[0]\n",
    "    purchase_result = marketplace.purchase_item(item_id)\n",
    "    tool_calls_5.append({'tool': 'purchase_item', 'item_id': item_id, 'result': purchase_result})\n",
    "\n",
    "# Torna su Tatooine\n",
    "ships = navigator.list_available_ships('Alderaan')\n",
    "if ships:\n",
    "    cheapest_ship_name, cheapest_ship = min(ships.items(), key=lambda item: item[1]['rental_cost'])\n",
    "    travel_result = navigator.travel('R2-D2', 'Tatooine', cheapest_ship_name)\n",
    "    tool_calls_5.append({'tool': 'travel', 'droid': 'R2-D2', 'from': 'Alderaan', 'to': 'Tatooine', 'ship': cheapest_ship_name, 'result': travel_result})\n",
    "\n",
    "agent_response_5 = (\n",
    "    \"Ho portato R2-D2 su Alderaan, acquistato un Holocron e riportato R2-D2 su Tatooine, ottimizzando i costi di viaggio e acquisto.\"\n",
    ")"
   ]
  },
  {
   "cell_type": "code",
   "execution_count": 263,
   "metadata": {},
   "outputs": [
    {
     "name": "stdout",
     "output_type": "stream",
     "text": [
      "📊 RISULTATI VALUTAZIONE:\n",
      "   🎯 Correttezza: 27.0/90\n",
      "   ⚡ Efficienza: 54.0/54\n",
      "   ✨ Qualità: 25.7/36\n",
      "   📊 Totale: 106.7/180\n",
      "   📈 Percentuale: 59.3%\n"
     ]
    }
   ],
   "source": [
    "# ✅ VALUTAZIONE MISSIONE 5\n",
    "evaluation_5 = evaluator.evaluate_mission(\n",
    "    task_id=5,\n",
    "    agent_response=agent_response_5,\n",
    "    intermediate_steps=tool_calls_5,\n",
    "    final_state=galaxy_state\n",
    ")\n",
    "display_evaluation_results(evaluation_5, round_number=2)\n"
   ]
  },
  {
   "cell_type": "markdown",
   "metadata": {},
   "source": [
    "---\n",
    "\n",
    "## Missione 6\n",
    "**Challenge finale: massimizza il numero di oggetti acquistati rimanendo nel budget di 5000 crediti**\n",
    "\n",
    "Suggerimento: ordina tutti gli oggetti per prezzo crescente e acquista finché hai crediti.\n"
   ]
  },
  {
   "cell_type": "code",
   "execution_count": 264,
   "metadata": {},
   "outputs": [],
   "source": [
    "tool_calls_6 = []\n",
    "\n",
    "# Ordina tutti gli oggetti per prezzo crescente\n",
    "items_sorted = sorted(marketplace.marketplace.items(), key=lambda x: x[1]['price'])\n",
    "bought = []\n",
    "for item_id, item in items_sorted:\n",
    "    if item['price'] <= galaxy_state['client']['balance']:\n",
    "        purchase_result = marketplace.purchase_item(item_id)\n",
    "        tool_calls_6.append({'tool': 'purchase_item', 'item_id': item_id, 'result': purchase_result})\n",
    "        if isinstance(purchase_result, str) and purchase_result.startswith(\"Purchased\"):\n",
    "            bought.append(item['name'])\n",
    "\n",
    "agent_response_6 = (\n",
    "    f\"Ho massimizzato il numero di oggetti acquistati con il budget disponibile. \"\n",
    "    f\"Oggetti acquistati: {', '.join(bought)}. Saldo finale: {galaxy_state['client']['balance']} crediti.\"\n",
    ")"
   ]
  },
  {
   "cell_type": "code",
   "execution_count": 265,
   "metadata": {},
   "outputs": [
    {
     "name": "stdout",
     "output_type": "stream",
     "text": [
      "📊 RISULTATI VALUTAZIONE:\n",
      "   🎯 Correttezza: 100.0/100\n",
      "   ⚡ Efficienza: 60.0/60\n",
      "   ✨ Qualità: 28.6/40\n",
      "   📊 Totale: 188.6/200\n",
      "   📈 Percentuale: 94.3%\n"
     ]
    }
   ],
   "source": [
    "# ✅ VALUTAZIONE MISSIONE 6\n",
    "evaluation_6 = evaluator.evaluate_mission(\n",
    "    task_id=6,\n",
    "    agent_response=agent_response_6,\n",
    "    intermediate_steps=tool_calls_6,\n",
    "    final_state=galaxy_state\n",
    ")\n",
    "display_evaluation_results(evaluation_6, round_number=2)\n"
   ]
  },
  {
   "cell_type": "markdown",
   "metadata": {},
   "source": [
    "---\n",
    "\n",
    "## 🎉 Complimenti!\n",
    "Hai completato tutte le missioni del Round 2.\n",
    "\n",
    "- Ottimizza le tue soluzioni e riesegui le valutazioni per migliorare il punteggio.\n",
    "- Preparati per il Round 3: Maestro degli Agenti!\n"
   ]
  }
 ],
 "metadata": {
  "kernelspec": {
   "display_name": "base",
   "language": "python",
   "name": "python3"
  },
  "language_info": {
   "codemirror_mode": {
    "name": "ipython",
    "version": 3
   },
   "file_extension": ".py",
   "mimetype": "text/x-python",
   "name": "python",
   "nbconvert_exporter": "python",
   "pygments_lexer": "ipython3",
   "version": "3.12.7"
  }
 },
 "nbformat": 4,
 "nbformat_minor": 2
}
